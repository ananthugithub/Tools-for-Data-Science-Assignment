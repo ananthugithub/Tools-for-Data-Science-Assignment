{
  "metadata": {
    "language_info": {
      "codemirror_mode": {
        "name": "python",
        "version": 3
      },
      "file_extension": ".py",
      "mimetype": "text/x-python",
      "name": "python",
      "nbconvert_exporter": "python",
      "pygments_lexer": "ipython3",
      "version": "3.8"
    },
    "kernelspec": {
      "name": "python",
      "display_name": "Pyolite",
      "language": "python"
    }
  },
  "nbformat_minor": 4,
  "nbformat": 4,
  "cells": [
    {
      "cell_type": "markdown",
      "source": "#\nMy Jupyter Notebook on IBM Watson Studio",
      "metadata": {}
    },
    {
      "cell_type": "markdown",
      "source": "**ANANTHU K KUMAR**",
      "metadata": {}
    },
    {
      "cell_type": "markdown",
      "source": "DATA SCIENTIST",
      "metadata": {}
    },
    {
      "cell_type": "markdown",
      "source": "* I'm interested in Mathematics and I find Data Science such a wonderful application of it.*",
      "metadata": {}
    },
    {
      "cell_type": "markdown",
      "source": "###\nThe following code displays the value \"Hello World\".",
      "metadata": {}
    },
    {
      "cell_type": "code",
      "source": "print(\"Hello World\")",
      "metadata": {
        "trusted": true
      },
      "execution_count": 1,
      "outputs": [
        {
          "name": "stdout",
          "text": "Hello World\n",
          "output_type": "stream"
        }
      ]
    },
    {
      "cell_type": "markdown",
      "source": "* This is a bullet list\n* This is a bullet list\n* This is a bullet list\n\n\n1. And you can also create ordered lists\n2. by using numbers\n3. and listing new items in the lists \n4. on their own lines\n\n`Here is some code!`\n\n\n***\n\nHere is some important text!\n\n***",
      "metadata": {}
    },
    {
      "cell_type": "code",
      "source": "",
      "metadata": {},
      "execution_count": null,
      "outputs": []
    }
  ]
}